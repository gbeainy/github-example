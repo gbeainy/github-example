{
 "cells": [
  {
   "cell_type": "code",
   "execution_count": 1,
   "id": "e20b7212",
   "metadata": {},
   "outputs": [],
   "source": [
    "import os\n",
    "import shutil"
   ]
  },
  {
   "cell_type": "code",
   "execution_count": 2,
   "id": "0a60110e",
   "metadata": {},
   "outputs": [],
   "source": [
    "repertoire_source = 'bordereaux csv'"
   ]
  },
  {
   "cell_type": "code",
   "execution_count": 3,
   "id": "144bf64c",
   "metadata": {},
   "outputs": [],
   "source": [
    "fichiers_dict = {}\n",
    "fichiers_fichiers_dict = {}"
   ]
  },
  {
   "cell_type": "code",
   "execution_count": 4,
   "id": "01c0656d",
   "metadata": {},
   "outputs": [],
   "source": [
    "for element in os.listdir(repertoire_source):\n",
    "    element_path = os.path.join(repertoire_source, element)\n",
    "    \n",
    "    # Vérifie si fichier .CSV ou .htm\n",
    "    if element.lower().endswith('.csv') or element.lower().endswith('.htm'):\n",
    "        # Obtient du nom \n",
    "        nom_requete = os.path.splitext(element)[0].lower()\n",
    "        \n",
    "        # Ajouter à la liste dans le dictionnaire\n",
    "        if nom_requete in fichiers_dict:\n",
    "            fichiers_dict[nom_requete].append(element_path)\n",
    "        else:\n",
    "            fichiers_dict[nom_requete] = [element_path]\n",
    "    \n",
    "    # Vérifie si dossier \"_fichiers\"\n",
    "    elif os.path.isdir(element_path) and element.lower().endswith('_fichiers'):\n",
    "        nom_requete = element[:-len('_fichiers')].lower()        \n",
    "        fichiers_fichiers_dict[nom_requete] = element_path"
   ]
  },
  {
   "cell_type": "code",
   "execution_count": 5,
   "id": "1f8e0891",
   "metadata": {},
   "outputs": [],
   "source": [
    "# création du répertoire et déplacement des fichiers correspondants\n",
    "for nom_requete, fichiers in fichiers_dict.items():\n",
    "    sous_repertoire = os.path.join(repertoire_source, nom_requete)\n",
    "    os.makedirs(sous_repertoire, exist_ok=True)\n",
    "    \n",
    "    for fichier in fichiers:\n",
    "        shutil.move(fichier, sous_repertoire)"
   ]
  },
  {
   "cell_type": "code",
   "execution_count": 6,
   "id": "ce662290",
   "metadata": {},
   "outputs": [],
   "source": [
    "# déplace les dossiers \"_fichiers\" dans le répertoire\n",
    "for nom_requete, dossier_fichiers in fichiers_fichiers_dict.items():\n",
    "    sous_repertoire = os.path.join(repertoire_source, nom_requete)\n",
    "    shutil.move(dossier_fichiers, sous_repertoire)"
   ]
  },
  {
   "cell_type": "code",
   "execution_count": 7,
   "id": "18c3c74e",
   "metadata": {},
   "outputs": [],
   "source": [
    "# suppression les dossiers \"_fichiers\" vides\n",
    "for element in os.listdir(repertoire_source):\n",
    "    element_path = os.path.join(repertoire_source, element)\n",
    "    if os.path.isdir(element_path) and element.lower().endswith('_fichiers') and not os.listdir(element_path):\n",
    "        os.rmdir(element_path)"
   ]
  },
  {
   "cell_type": "code",
   "execution_count": null,
   "id": "73bc3d4c",
   "metadata": {},
   "outputs": [],
   "source": []
  }
 ],
 "metadata": {
  "kernelspec": {
   "display_name": "Python 3 (ipykernel)",
   "language": "python",
   "name": "python3"
  },
  "language_info": {
   "codemirror_mode": {
    "name": "ipython",
    "version": 3
   },
   "file_extension": ".py",
   "mimetype": "text/x-python",
   "name": "python",
   "nbconvert_exporter": "python",
   "pygments_lexer": "ipython3",
   "version": "3.11.3"
  }
 },
 "nbformat": 4,
 "nbformat_minor": 5
}
